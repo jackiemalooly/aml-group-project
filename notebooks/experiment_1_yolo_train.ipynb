{
  "cells": [
    {
      "cell_type": "code",
      "execution_count": null,
      "metadata": {
        "colab": {
          "base_uri": "https://localhost:8080/"
        },
        "id": "SgMgTFswh_-f",
        "outputId": "4c35d18e-76bd-492d-defc-371991372373"
      },
      "outputs": [
        {
          "name": "stdout",
          "output_type": "stream",
          "text": [
            "Requirement already satisfied: albumentations in /usr/local/lib/python3.11/dist-packages (2.0.5)\n",
            "Requirement already satisfied: numpy>=1.24.4 in /usr/local/lib/python3.11/dist-packages (from albumentations) (1.26.4)\n",
            "Requirement already satisfied: scipy>=1.10.0 in /usr/local/lib/python3.11/dist-packages (from albumentations) (1.14.1)\n",
            "Requirement already satisfied: PyYAML in /usr/local/lib/python3.11/dist-packages (from albumentations) (6.0.2)\n",
            "Requirement already satisfied: pydantic>=2.9.2 in /usr/local/lib/python3.11/dist-packages (from albumentations) (2.10.6)\n",
            "Requirement already satisfied: albucore==0.0.23 in /usr/local/lib/python3.11/dist-packages (from albumentations) (0.0.23)\n",
            "Requirement already satisfied: opencv-python-headless>=4.9.0.80 in /usr/local/lib/python3.11/dist-packages (from albumentations) (4.10.0.84)\n",
            "Requirement already satisfied: stringzilla>=3.10.4 in /usr/local/lib/python3.11/dist-packages (from albucore==0.0.23->albumentations) (3.12.3)\n",
            "Requirement already satisfied: simsimd>=5.9.2 in /usr/local/lib/python3.11/dist-packages (from albucore==0.0.23->albumentations) (6.2.1)\n",
            "Requirement already satisfied: annotated-types>=0.6.0 in /usr/local/lib/python3.11/dist-packages (from pydantic>=2.9.2->albumentations) (0.7.0)\n",
            "Requirement already satisfied: pydantic-core==2.27.2 in /usr/local/lib/python3.11/dist-packages (from pydantic>=2.9.2->albumentations) (2.27.2)\n",
            "Requirement already satisfied: typing-extensions>=4.12.2 in /usr/local/lib/python3.11/dist-packages (from pydantic>=2.9.2->albumentations) (4.12.2)\n"
          ]
        }
      ],
      "source": [
        "!pip install -r ../requirements.txt"
      ]
    },
    {
      "cell_type": "markdown",
      "metadata": {
        "id": "FY8a1M8o26la"
      },
      "source": [
        "DISCLAIMER: THIS CODE IS NOT MINE ⏰ BUT IT WORKS!"
      ]
    },
    {
      "cell_type": "code",
      "execution_count": 12,
      "metadata": {
        "colab": {
          "base_uri": "https://localhost:8080/"
        },
        "id": "s8gOvXyRzLfu",
        "outputId": "8a72862d-1bac-405b-a9e2-ba2d4c3ffa42"
      },
      "outputs": [
        {
          "name": "stderr",
          "output_type": "stream",
          "text": [
            "ShiftScaleRotate is a special case of Affine transform. Please use Affine transform instead.\n",
            "100%|██████████| 3/3 [00:00<00:00, 20.06it/s]\n"
          ]
        }
      ],
      "source": [
        "import os\n",
        "import cv2\n",
        "import albumentations as A\n",
        "from glob import glob\n",
        "from tqdm import tqdm\n",
        "import shutil\n",
        "\n",
        "# Paths (modify accordingly)\n",
        "img_dir = '/content/5-cats-1/train/images'\n",
        "label_dir = '/content/5-cats-1/train/labels'\n",
        "aug_img_dir = '/content/5-cats-1/augTrain/images'\n",
        "aug_label_dir = '/content/5-cats-1/augTrain/labels'\n",
        "\n",
        "os.makedirs(aug_img_dir, exist_ok=True)\n",
        "os.makedirs(aug_label_dir, exist_ok=True)\n",
        "\n",
        "# Define augmentation pipeline\n",
        "transform = A.Compose([\n",
        "    A.HorizontalFlip(p=0.5),\n",
        "    A.RandomBrightnessContrast(p=0.5),\n",
        "    A.ShiftScaleRotate(shift_limit=0.0625, scale_limit=0.1, rotate_limit=15, p=0.5),\n",
        "    A.Blur(p=0.2),\n",
        "], bbox_params=A.BboxParams(format='yolo', label_fields=['class_labels']))\n",
        "\n",
        "# Helper function\n",
        "def read_yolo_labels(label_path):\n",
        "    boxes, class_labels = [], []\n",
        "    with open(label_path, 'r') as f:\n",
        "        for line in f:\n",
        "            parts = line.strip().split()\n",
        "            class_labels.append(int(parts[0]))\n",
        "            boxes.append([float(x) for x in parts[1:]])\n",
        "    return boxes, class_labels\n",
        "\n",
        "def save_yolo_labels(save_path, boxes, class_labels):\n",
        "    with open(save_path, 'w') as f:\n",
        "        for cls, box in zip(class_labels, boxes):\n",
        "            box_str = ' '.join(map(str, box))\n",
        "            f.write(f\"{cls} {box_str}\\n\")\n",
        "\n",
        "# Augmentation Loop\n",
        "image_paths = glob(os.path.join(img_dir, '*.jpg'))\n",
        "\n",
        "for img_path in tqdm(image_paths):\n",
        "    file_name = os.path.basename(img_path)\n",
        "    label_path = os.path.join(label_dir, file_name.replace('.jpg', '.txt'))\n",
        "\n",
        "    image = cv2.imread(img_path)\n",
        "    image = cv2.cvtColor(image, cv2.COLOR_BGR2RGB)\n",
        "\n",
        "    boxes, class_labels = read_yolo_labels(label_path)\n",
        "\n",
        "    # Apply augmentation\n",
        "    augmented = transform(image=image, bboxes=boxes, class_labels=class_labels)\n",
        "\n",
        "    aug_image = cv2.cvtColor(augmented['image'], cv2.COLOR_RGB2BGR)\n",
        "    aug_boxes = augmented['bboxes']\n",
        "    aug_class_labels = augmented['class_labels']\n",
        "\n",
        "    # Skip images without bounding boxes after augmentation\n",
        "    if len(aug_boxes) == 0:\n",
        "        continue\n",
        "\n",
        "    # Save augmented image and labels\n",
        "    aug_file_name = f\"aug_{file_name}\"\n",
        "    cv2.imwrite(os.path.join(aug_img_dir, aug_file_name), aug_image)\n",
        "    save_yolo_labels(os.path.join(aug_label_dir, aug_file_name.replace('.jpg', '.txt')), aug_boxes, aug_class_labels)\n"
      ]
    },
    {
      "cell_type": "markdown",
      "metadata": {
        "id": "NnaWfoRArcbZ"
      },
      "source": [
        "Apply pre-processing"
      ]
    }
  ],
  "metadata": {
    "colab": {
      "provenance": []
    },
    "kernelspec": {
      "display_name": "Python 3",
      "name": "python3"
    },
    "language_info": {
      "name": "python"
    }
  },
  "nbformat": 4,
  "nbformat_minor": 0
}
