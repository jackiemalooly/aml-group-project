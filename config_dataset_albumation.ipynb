{
  "nbformat": 4,
  "nbformat_minor": 0,
  "metadata": {
    "colab": {
      "provenance": []
    },
    "kernelspec": {
      "name": "python3",
      "display_name": "Python 3"
    },
    "language_info": {
      "name": "python"
    }
  },
  "cells": [
    {
      "cell_type": "markdown",
      "source": [
        "In this notebook we will use techniques to enhance our dataset. first let's define required variables"
      ],
      "metadata": {
        "id": "U0vJwXRuv4Gd"
      }
    },
    {
      "cell_type": "code",
      "execution_count": null,
      "metadata": {
        "id": "_Vws8oWVv0Im"
      },
      "outputs": [],
      "source": [
        "DATA_PATH_TO_YAML = \"/content/drive/MyDrive/5 cats.v2i.yolov11 (1)/data.yaml\"\n",
        "INPUT_IMAGES_DIR = \"/content/drive/MyDrive/5 cats.v2i.yolov11 (1)/train/images\"\n",
        "INPUT_LABELS_DIR = \"/content/drive/MyDrive/5 cats.v2i.yolov11 (1)/train/labels\"\n",
        "OUTPUT_IMAGES_DIR = \"/content/drive/MyDrive/5 cats.v2i.yolov11 (1)/Albumation_Aug/img\"\n",
        "OUTPUT_LABELS_DIR = \"/content/drive/MyDrive/5 cats.v2i.yolov11 (1)/Albumation_Aug/labels\""
      ]
    },
    {
      "cell_type": "markdown",
      "source": [
        "# Package Installation"
      ],
      "metadata": {
        "id": "98RqGhgoxBiT"
      }
    },
    {
      "cell_type": "code",
      "source": [
        "!pip install albumentations\n",
        "!pip install ultralytics"
      ],
      "metadata": {
        "id": "uToxFX9nxHrg"
      },
      "execution_count": null,
      "outputs": []
    },
    {
      "cell_type": "markdown",
      "source": [
        "**Import required libraries**"
      ],
      "metadata": {
        "id": "Ynj89VeaxQ2n"
      }
    },
    {
      "cell_type": "code",
      "source": [
        "import albumentations as A\n",
        "import ultralytics\n",
        "from albumentations.pytorch import ToTensorV2\n",
        "import os\n",
        "import cv2\n",
        "from pathlib import Path\n",
        "import tqdm\n",
        "import numpy as np\n"
      ],
      "metadata": {
        "id": "fGSt3xTVxrA-"
      },
      "execution_count": null,
      "outputs": []
    },
    {
      "cell_type": "code",
      "source": [
        "transform = A.Compose([\n",
        "    A.HorizontalFlip(p=0.5),\n",
        "    A.RandomBrightnessContrast(p=0.3),\n",
        "    A.ShiftScaleRotate(shift_limit=0.05, scale_limit=0.1, rotate_limit=15, p=0.5),\n",
        "    A.Blur(blur_limit=3, p=0.1),\n",
        "    A.RandomSizedBBoxSafeCrop(height=416, width=416, p=0.5),\n",
        "    A.Normalize(mean=[0, 0, 0], std=[1, 1, 1]),\n",
        "    ToTensorV2()\n",
        "], bbox_params=A.BboxParams(format='yolo', label_fields=['class_labels']))"
      ],
      "metadata": {
        "colab": {
          "base_uri": "https://localhost:8080/"
        },
        "id": "s5YcdmjB2qkC",
        "outputId": "dae86f69-ca64-46b6-aa05-dd1ba7656926"
      },
      "execution_count": null,
      "outputs": [
        {
          "output_type": "stream",
          "name": "stderr",
          "text": [
            "/usr/local/lib/python3.11/dist-packages/albumentations/core/validation.py:87: UserWarning: ShiftScaleRotate is a special case of Affine transform. Please use Affine transform instead.\n",
            "  original_init(self, **validated_kwargs)\n"
          ]
        }
      ]
    },
    {
      "cell_type": "code",
      "source": [
        "def load_yolo_labels(label_path):\n",
        "    with open(label_path, 'r') as f:\n",
        "        lines = f.readlines()\n",
        "\n",
        "    bboxes = []\n",
        "    class_labels = []\n",
        "    for line in lines:\n",
        "        class_id, x_center, y_center, width, height = map(float, line.strip().split())\n",
        "        bboxes.append([x_center, y_center, width, height])\n",
        "        class_labels.append(int(class_id))\n",
        "\n",
        "    return bboxes, class_labels\n"
      ],
      "metadata": {
        "id": "7Vz50shD5PGu"
      },
      "execution_count": null,
      "outputs": []
    },
    {
      "cell_type": "code",
      "source": [
        "def save_augmented_data(image, bboxes, labels, base_filename, aug_num):\n",
        "    image_np = image.permute(1, 2, 0).numpy()\n",
        "    image_np = (image_np * 255).astype(np.uint8)\n",
        "    image_filename = f\"{base_filename}_aug{aug_num}.jpg\"\n",
        "    cv2.imwrite(os.path.join(OUTPUT_IMAGES_DIR, image_filename),\n",
        "                cv2.cvtColor(image_np, cv2.COLOR_RGB2BGR))\n",
        "\n",
        "    label_filename = f\"{base_filename}_aug{aug_num}.txt\"\n",
        "    with open(os.path.join(OUTPUT_LABELS_DIR, label_filename), 'w') as f:\n",
        "        for bbox, label in zip(bboxes, labels):\n",
        "            f.write(f\"{label} {bbox[0]} {bbox[1]} {bbox[2]} {bbox[3]}\\n\")"
      ],
      "metadata": {
        "id": "oC679cfU5YzY"
      },
      "execution_count": null,
      "outputs": []
    },
    {
      "cell_type": "code",
      "source": [
        "os.makedirs(OUTPUT_IMAGES_DIR, exist_ok=True)\n",
        "os.makedirs(OUTPUT_LABELS_DIR, exist_ok=True)"
      ],
      "metadata": {
        "id": "M_5OYIfR5fEw"
      },
      "execution_count": null,
      "outputs": []
    },
    {
      "cell_type": "code",
      "source": [
        "def load_image(pth):\n",
        "  img = cv2.imread(str(pth))\n",
        "  img = cv2.cvtColor(img, cv2.COLOR_BGR2RGB)\n",
        "  return img"
      ],
      "metadata": {
        "id": "rNuEZlXJ-dE9"
      },
      "execution_count": null,
      "outputs": []
    },
    {
      "cell_type": "code",
      "source": [
        "def transform_and_save(img, main_bbox, main_lbls):\n",
        "  my_transformed = transform(\n",
        "                image=img,\n",
        "                bboxes=main_bbox,\n",
        "                class_labels=main_lbls\n",
        "            )\n",
        "\n",
        "  transformed_image = my_transformed[\"image\"]\n",
        "  transformed_bboxes = my_transformed[\"bboxes\"]\n",
        "  transformed_labels = my_transformed[\"class_labels\"]\n",
        "  if len(transformed_bboxes) == 0:\n",
        "                return False\n",
        "  save_augmented_data(\n",
        "                transformed_image,\n",
        "                transformed_bboxes,\n",
        "                transformed_labels,\n",
        "                image_path.stem,\n",
        "                aug_num\n",
        "            )\n",
        "  return True\n"
      ],
      "metadata": {
        "id": "6Q14AylP_Xxt"
      },
      "execution_count": null,
      "outputs": []
    },
    {
      "cell_type": "code",
      "source": [
        "image_paths = list(Path(INPUT_IMAGES_DIR).glob(\"*.*\")) #get all images within the image folder\n",
        "\n",
        "for image_path in tqdm.tqdm(image_paths, desc=\"Processing images\"):\n",
        "  image = load_image(image_path)\n",
        "  label_path = Path(INPUT_LABELS_DIR) / f\"{image_path.stem}.txt\"\n",
        "  if not label_path.exists():\n",
        "            continue\n",
        "\n",
        "  original_bboxes, original_labels = load_yolo_labels(label_path)\n",
        "\n",
        "  for aug_num in range(2):\n",
        "    transform_and_save(image, original_bboxes, original_labels)\n",
        "    if not transform_and_save:\n",
        "      continue\n",
        "    else:\n",
        "      print(\"successfully done epoch\")"
      ],
      "metadata": {
        "colab": {
          "base_uri": "https://localhost:8080/"
        },
        "id": "kH8UiOyw9D8u",
        "outputId": "75326d86-eaea-4dac-ade2-c03995b7634d"
      },
      "execution_count": null,
      "outputs": [
        {
          "output_type": "stream",
          "name": "stderr",
          "text": [
            "Processing images:  11%|█         | 1/9 [00:00<00:00,  9.27it/s]"
          ]
        },
        {
          "output_type": "stream",
          "name": "stdout",
          "text": [
            "successfully done epoch\n",
            "successfully done epoch\n",
            "successfully done epoch\n",
            "successfully done epoch\n",
            "successfully done epoch\n"
          ]
        },
        {
          "output_type": "stream",
          "name": "stderr",
          "text": [
            "Processing images:  56%|█████▌    | 5/9 [00:00<00:00, 10.72it/s]"
          ]
        },
        {
          "output_type": "stream",
          "name": "stdout",
          "text": [
            "successfully done epoch\n",
            "successfully done epoch\n",
            "successfully done epoch\n",
            "successfully done epoch\n",
            "successfully done epoch\n"
          ]
        },
        {
          "output_type": "stream",
          "name": "stderr",
          "text": [
            "\rProcessing images:  78%|███████▊  | 7/9 [00:00<00:00, 11.76it/s]"
          ]
        },
        {
          "output_type": "stream",
          "name": "stdout",
          "text": [
            "successfully done epoch\n",
            "successfully done epoch\n",
            "successfully done epoch\n",
            "successfully done epoch\n",
            "successfully done epoch\n",
            "successfully done epoch\n"
          ]
        },
        {
          "output_type": "stream",
          "name": "stderr",
          "text": [
            "Processing images: 100%|██████████| 9/9 [00:00<00:00, 11.07it/s]"
          ]
        },
        {
          "output_type": "stream",
          "name": "stdout",
          "text": [
            "successfully done epoch\n",
            "successfully done epoch\n"
          ]
        },
        {
          "output_type": "stream",
          "name": "stderr",
          "text": [
            "\n"
          ]
        }
      ]
    }
  ]
}